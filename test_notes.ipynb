{
 "cells": [
  {
   "cell_type": "code",
   "execution_count": 113,
   "metadata": {},
   "outputs": [],
   "source": [
    "from datetime import datetime\n",
    "import csv\n",
    "import os\n",
    "import json"
   ]
  },
  {
   "cell_type": "code",
   "execution_count": 115,
   "metadata": {},
   "outputs": [
    {
     "name": "stdout",
     "output_type": "stream",
     "text": [
      "{'csv_file_path': '/root/python3/Data-engineer-Course-DW-Airflow/data/in/', '0': {'csv_file_name': 'DIM_CLIENTE.csv', 'table_name': 'DIM_CLIENTE', 'unique_key': 'id_cliente', 'fields': {'id_cliente': 'int', 'nome_cliente': 'string', 'sobrenome_cliente': 'string'}}, '1': {'csv_file_name': 'DIM_DATA.csv', 'table_name': 'DIM_DATA', 'fields': {'id_data': 'int', 'data_completa': 'datetime', 'dia': 'int', 'mes': 'int', 'ano': 'int'}}, '2': {'csv_file_name': 'DIM_DEPOSITO.csv', 'table_name': 'DIM_DEPOSITO', 'fields': {'id_deposito': 'int', 'nome_deposito': 'string'}}, '3': {'csv_file_name': 'DIM_ENTREGA.csv', 'table_name': 'DIM_ENTREGA', 'fields': {'id_entrega': 'int', 'endereco_entrega': 'string', 'pais_entrega': 'string'}}, '4': {'csv_file_name': 'DIM_FRETE.csv', 'table_name': 'DIM_FRETE', 'fields': {'id_frete': 'int', 'tipo_frete': 'string'}}, '5': {'csv_file_name': 'DIM_PAGAMENTO.csv', 'table_name': 'DIM_PAGAMENTO', 'fields': {'id_pagamento': 'int', 'tipo_pagamento': 'string'}}, '6': {'csv_file_name': 'DIM_TRANSPORTADORA.csv', 'table_name': 'DIM_TRANSPORTADORA', 'fields': {'id_transportadora': 'int', 'nome_transportadora': 'string'}}, '7': {'csv_file_name': 'TB_FATO.csv', 'table_name': 'TB_FATO', 'fields': {'id_cliente': 'int', 'id_transportadora': 'int', 'id_deposito': 'int', 'id_entrega': 'int', 'id_pagamento': 'int', 'id_frete': 'int', 'id_data': 'int', 'valor_entrega': 'currency'}}}\n"
     ]
    }
   ],
   "source": [
    "\n",
    "with open('/root/python3/Data-engineer-Course-DW-Airflow/data-map/map.json', 'r') as conf:\n",
    "\n",
    "    mapping = json.loads(conf.read())\n",
    "    \n",
    "\n",
    "print(mapping['params'])\n",
    "\n",
    "map_number = 0"
   ]
  },
  {
   "cell_type": "code",
   "execution_count": 146,
   "metadata": {},
   "outputs": [],
   "source": [
    "data_map = mapping['params']\n",
    "path     = data_map['csv_file_path']\n",
    "file     = data_map[str(map_number)]['csv_file_name']\n",
    "table    = data_map[str(map_number)]['table_name']\n",
    "fields_name = list(data_map[str(map_number)]['fields'].keys())\n",
    "fields_value = list(data_map[str(map_number)]['fields'].values())\n",
    "uk = data_map[str(map_number)]['unique_key']\n",
    "\n"
   ]
  },
  {
   "cell_type": "code",
   "execution_count": 147,
   "metadata": {},
   "outputs": [
    {
     "name": "stdout",
     "output_type": "stream",
     "text": [
      "['id_cliente', 'nome_cliente', 'sobrenome_cliente']\n",
      "['int', 'string', 'string']\n",
      "/root/python3/Data-engineer-Course-DW-Airflow/data/in/\n",
      "DIM_CLIENTE.csv\n",
      "id_cliente\n",
      "['nome_cliente', 'sobrenome_cliente']\n",
      "['DIM_DEPOSITO.csv', 'TB_FATO.csv', 'DIM_PAGAMENTO.csv', 'DIM_ENTREGA.csv', 'DIM_DATA.csv', 'DIM_FRETE.csv', 'DIM_CLIENTE.csv', 'DIM_TRANSPORTADORA.csv']\n"
     ]
    }
   ],
   "source": [
    "print(list(fields_name))\n",
    "print(fields_value)\n",
    "print(path)\n",
    "print(file)\n",
    "print(uk)\n",
    "print(update_field)\n",
    "print(os.listdir(path))"
   ]
  },
  {
   "cell_type": "code",
   "execution_count": 148,
   "metadata": {},
   "outputs": [],
   "source": [
    "def quotify(line, map_num):\n",
    "### This function will place quotes before and after the values if it is a string type\n",
    "\n",
    "            for field, value in line.items():\n",
    "\n",
    "                  if mapping['params'][str(map_num)]['fields'][field] in ['string', 'datetime']:\n",
    "                        line[field] = f'\"{value}\"'\n",
    "            \n",
    "            return line"
   ]
  },
  {
   "cell_type": "code",
   "execution_count": 156,
   "metadata": {},
   "outputs": [
    {
     "name": "stdout",
     "output_type": "stream",
     "text": [
      "insert into lab6.DIM_CLIENTE (id_cliente,nome_cliente,sobrenome_cliente) values (100,\"Bob\",\"Farias\") \n",
      "                      on conflict(id_cliente) \n",
      "                      do update set (nome_cliente=\"Bob\",sobrenome_cliente=\"Farias\"); \n",
      "\n",
      "                   insert into lab6.DIM_CLIENTE (id_cliente,nome_cliente,sobrenome_cliente) values (101,\"Maria\",\"Tavares\") \n",
      "                      on conflict(id_cliente) \n",
      "                      do update set (nome_cliente=\"Maria\",sobrenome_cliente=\"Tavares\"); \n",
      "\n",
      "                   insert into lab6.DIM_CLIENTE (id_cliente,nome_cliente,sobrenome_cliente) values (103,\"John\",\"Snow\") \n",
      "                      on conflict(id_cliente) \n",
      "                      do update set (nome_cliente=\"John\",sobrenome_cliente=\"Snow\"); \n",
      "\n",
      "                   \n"
     ]
    }
   ],
   "source": [
    "with open(f'{path}{file}', 'r') as f:\n",
    "    reader = csv.DictReader(f)\n",
    "    data=[]\n",
    "    query, sql_cmd, update_fields = '','', ''\n",
    "    \n",
    "    for line in reader:\n",
    "        line = quotify(dict(line),map_number)\n",
    "        \n",
    "        insert_values = [value for value in line.values()]\n",
    "        update_fields = [ f'{key}={value}' for key,value in line.items() if key != uk ]\n",
    "                  \n",
    "        sql_cmd += '''insert into lab6.%s (%s) values (%s) \n",
    "                      on conflict(%s) \n",
    "                      do update set (%s); \\n\n",
    "                   ''' % (table, \n",
    "                          ','.join(fields_name), \n",
    "                          ','.join(insert_values),\n",
    "                          uk,\n",
    "                          ','.join(update_fields)\n",
    "                        )\n",
    "    print(sql_cmd)\n",
    "    \n"
   ]
  },
  {
   "cell_type": "code",
   "execution_count": null,
   "metadata": {},
   "outputs": [],
   "source": []
  }
 ],
 "metadata": {
  "kernelspec": {
   "display_name": "Python 3",
   "language": "python",
   "name": "python3"
  },
  "language_info": {
   "codemirror_mode": {
    "name": "ipython",
    "version": 3
   },
   "file_extension": ".py",
   "mimetype": "text/x-python",
   "name": "python",
   "nbconvert_exporter": "python",
   "pygments_lexer": "ipython3",
   "version": "3.11.1"
  },
  "orig_nbformat": 4,
  "vscode": {
   "interpreter": {
    "hash": "949777d72b0d2535278d3dc13498b2535136f6dfe0678499012e853ee9abcab1"
   }
  }
 },
 "nbformat": 4,
 "nbformat_minor": 2
}
