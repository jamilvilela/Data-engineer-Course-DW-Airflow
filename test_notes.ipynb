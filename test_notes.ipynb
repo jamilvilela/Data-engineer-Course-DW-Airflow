{
 "cells": [
  {
   "cell_type": "code",
   "execution_count": 1,
   "metadata": {},
   "outputs": [],
   "source": [
    "from datetime import datetime\n",
    "import csv\n",
    "import json\n",
    "import collections \n",
    "import logging\n",
    "import os\n",
    "import shutil\n",
    "import pytz"
   ]
  },
  {
   "cell_type": "code",
   "execution_count": 2,
   "metadata": {},
   "outputs": [],
   "source": [
    "#logging config\n",
    "br_tz = pytz.timezone('America/Sao_Paulo')\n",
    "dt_now = datetime.now(br_tz)\n",
    "year = dt_now.strftime('%Y')\n",
    "month = dt_now.strftime('%m')\n",
    "day = dt_now.strftime('%d')\n",
    "\n",
    "project_path = '/root/python3/Data-engineer-Course-DW-Airflow/logistics'\n",
    "map_path     = f'{project_path}/data-map/map.json'\n",
    "data_path    = f'{project_path}/data/'\n",
    "log_path     = f'{project_path}/log/{year}-{month}-{day}-log.txt'\n",
    "error_path   = f'{project_path}/error/{year}-{month}-{day}/'\n",
    "process_path = f'{project_path}/processed/{year}-{month}-{day}/'\n"
   ]
  },
  {
   "cell_type": "code",
   "execution_count": 3,
   "metadata": {},
   "outputs": [],
   "source": [
    "\n",
    "logging.basicConfig(level=logging.DEBUG,\n",
    "                    filename=log_path,\n",
    "                    format='%(asctime)s - %(levelname)s - %(message)s',\n",
    "                    filemode='a')\n"
   ]
  },
  {
   "cell_type": "code",
   "execution_count": 4,
   "metadata": {},
   "outputs": [],
   "source": [
    "def raiseOnError(error_message: str):\n",
    "        \"\"\"\n",
    "        This function will be executed after error handling through the flow\n",
    "        \"\"\"\n",
    "        logging.error(error_message)\n",
    "        raise ValueError(error_message)\n",
    "   "
   ]
  },
  {
   "cell_type": "code",
   "execution_count": 5,
   "metadata": {},
   "outputs": [],
   "source": [
    "def openFile(path: str, i: int) -> dict:\n",
    "            try:\n",
    "                  \n",
    "                  with open(path, 'r') as conf:\n",
    "                        logging.debug(f'Open file: {path}')\n",
    "                        map = json.loads(conf.read())\n",
    "                        return map['params'][str(i)]\n",
    "                        \n",
    "            except FileNotFoundError as e:\n",
    "                  raiseOnError(f'File not found. \\nMSG: {e}')\n",
    "            except IOError as e:\n",
    "                  raiseOnError(f'Open error: {path}. \\nMSG: {e}')\n",
    "                  \n",
    "            return map"
   ]
  },
  {
   "cell_type": "code",
   "execution_count": 6,
   "metadata": {},
   "outputs": [],
   "source": [
    "def quotify(line: dict, data_map: dict):\n",
    "            \"\"\"\n",
    "            This function will place quotes before and after the values if it is a string type\n",
    "            \"\"\"\n",
    "\n",
    "            for field, value in line.items():\n",
    "\n",
    "                  if data_map['fields'][field] in ['string', 'datetime']:\n",
    "                        line[field] = f\"'{value}'\"\n",
    "            \n",
    "            return line"
   ]
  },
  {
   "cell_type": "code",
   "execution_count": 7,
   "metadata": {},
   "outputs": [],
   "source": [
    "def read_csv(data_map: dict):\n",
    "            \"\"\"\n",
    "            This function read the CSV file for loading into DW.\n",
    "            If the column names are different from data mapping config, this function will return an empty list\n",
    "            \"\"\"\n",
    "            \n",
    "            data = []\n",
    "\n",
    "            if data_map == '':\n",
    "                  raiseOnError('Data map file is invalid.')\n",
    "            else:\n",
    "                  file_name   = data_map['csv_file_name']\n",
    "                  fields_name = data_map['fields'].keys()\n",
    "                  \n",
    "                  try:\n",
    "                        with open(f'{data_path}{file_name}', 'r') as file:\n",
    "                              reader = csv.DictReader(file)\n",
    "                              logging.info(f'Open file: {file_name}')\n",
    "\n",
    "                              if collections.Counter(reader.fieldnames) != collections.Counter(fields_name):   \n",
    "                                    raiseOnError('The file columns are different from the data mapping. \\nIngestion can not continue.')\n",
    "\n",
    "                              for line in reader:\n",
    "                                    line = quotify(dict(line), data_map)\n",
    "                                    data.append(line)\n",
    "                              \n",
    "                              lines_qty = len(data)\n",
    "                              logging.info(f'Total lines read: {lines_qty}')\n",
    "                  \n",
    "                              # if file exists but no data\n",
    "                              if lines_qty <= 0:\n",
    "                                    raiseOnError(f'File {file_name} is empty.')\n",
    "                                    \n",
    "                  except FileNotFoundError as e:\n",
    "                        raiseOnError(f'File not found. \\nMSG: {e}') \n",
    "                  except IOError as e:\n",
    "                        raiseOnError(f'Open error: {file_name}. \\nMSG: {e}') \n",
    "\n",
    "            return data"
   ]
  },
  {
   "cell_type": "code",
   "execution_count": 8,
   "metadata": {},
   "outputs": [],
   "source": [
    "def create_sql_cmd(data: list, data_map: dict) -> str:\n",
    "            \"\"\"\n",
    "            this function receives the all csv file content in a list \n",
    "            and generates one sql command for each line of the file\n",
    "            \"\"\"                  \n",
    "\n",
    "            table       = data_map['table_name']\n",
    "            fields_name = data_map['fields'].keys()\n",
    "            fields_name = ','.join(fields_name)\n",
    "            unique_key  = data_map['unique_key']\n",
    "            sql_cmd     = ''\n",
    "            \n",
    "            if len(data) == 0:\n",
    "                  raiseOnError(f'There is no data to insert into {table}.')\n",
    "            \n",
    "            for line in data:\n",
    "                  \n",
    "                  insert_values = [value for value in line.values()] \n",
    "                  insert_values = ','.join(insert_values)                 \n",
    "\n",
    "                  update_fields = [ f'{key}={value}' for key,value in line.items() if key not in unique_key ]\n",
    "                  update_fields = ','.join(update_fields)\n",
    "\n",
    "                  sql_cmd +=  f'''\n",
    "                              insert into lab6.{table} ({fields_name}) \n",
    "                              values ({insert_values}) \n",
    "                              on conflict({unique_key}) \n",
    "                              do update set {update_fields};\n",
    "                              ''' \n",
    "                                    \n",
    "            logging.info( f'Total commands: {len(data)}' )\n",
    "\n",
    "            return sql_cmd"
   ]
  },
  {
   "cell_type": "code",
   "execution_count": 9,
   "metadata": {},
   "outputs": [],
   "source": [
    "def load_to_postgres(sql_cmd: str):\n",
    "            \"\"\"\n",
    "            This function loads the data into Postgres using the SQL command.\n",
    "            \"\"\"\n",
    "            logging.debug( sql_cmd )\n",
    "            \n",
    "            if sql_cmd == '':\n",
    "                  raiseOnError(f'There is no SQL command to insert.')\n",
    "\n",
    "            '''\n",
    "            try:\n",
    "                load = PostgresOperator(task_id = 'load_to_postgres',\n",
    "                                        sql = sql_cmd,\n",
    "                                        postgres_conn_id = 'dw-postgresDB',\n",
    "                                        dag = dag_dw_load)\n",
    "                load.execute()\n",
    "            except Exception as e:\n",
    "                raiseOnError(f'Insert/update execution failed. \\nMSG: {e}')\n",
    "            '''\n",
    "            return True\n"
   ]
  },
  {
   "cell_type": "code",
   "execution_count": 10,
   "metadata": {},
   "outputs": [],
   "source": [
    "def move_file(file: str, destiny: str):\n",
    "        '''\n",
    "        This function moves the file to the detiny directory\n",
    "        '''\n",
    "        \n",
    "        dt = datetime.now(br_tz)\n",
    "        yy = dt.strftime('%Y')\n",
    "        mm = dt.strftime('%m')\n",
    "        dd = dt.strftime('%d')\n",
    "        hh = dt.strftime('%H')\n",
    "        mi = dt.strftime('%M')\n",
    "        ss = dt.strftime('%S')\n",
    "        \n",
    "        name, extension = file.split(sep='.')\n",
    "        \n",
    "        new_file = f'{name}-{yy}{mm}{dd}-{hh}{mi}{ss}.{extension}'\n",
    "        \n",
    "        try:\n",
    "            \n",
    "            if not os.path.exists(destiny):\n",
    "                os.makedirs(destiny)\n",
    "            \n",
    "            shutil.copyfile(f'{data_path}{file}', f'{destiny}{new_file}')\n",
    "            #shutil.move(f'{data_path}{file}', f'{destiny}{new_file}')\n",
    "            logging.info(f'File {file} moved to {new_file}.')\n",
    "            \n",
    "        except Exception as e:\n",
    "            raiseOnError(f'Copy file error. \\nMSG: {e}')\n"
   ]
  },
  {
   "cell_type": "code",
   "execution_count": 15,
   "metadata": {},
   "outputs": [
    {
     "data": {
      "text/plain": [
       "\"\\ndef send_email(dest: str):\\n            EmailOperator(task_id = 'send_email',\\n                          to =  dest,\\n                          subject = 'Logistics - DW load', \\n                          html_content = 'The data load on PostgreSQL has been successfully completed.',\\n                          )\\n\""
      ]
     },
     "execution_count": 15,
     "metadata": {},
     "output_type": "execute_result"
    }
   ],
   "source": [
    "\n",
    "def send_email(dest: str):\n",
    "            EmailOperator(task_id = 'send_email',\n",
    "                          to =  dest,\n",
    "                          subject = 'Logistics - DW load', \n",
    "                          html_content = 'The data load on PostgreSQL has been successfully completed.',\n",
    "                          )"
   ]
  },
  {
   "cell_type": "code",
   "execution_count": 16,
   "metadata": {},
   "outputs": [
    {
     "name": "stdout",
     "output_type": "stream",
     "text": [
      "{'csv_file_name': 'DIM_CLIENTE.csv', 'table_name': 'DIM_CLIENTE', 'unique_key': 'id_cliente', 'fields': {'id_cliente': 'int', 'nome_cliente': 'string', 'sobrenome_cliente': 'string'}}\n",
      "{'csv_file_name': 'DIM_DATA.csv', 'table_name': 'DIM_DATA', 'unique_key': 'id_data', 'fields': {'id_data': 'int', 'data_completa': 'datetime', 'dia': 'int', 'mes': 'int', 'ano': 'int'}}\n",
      "{'csv_file_name': 'DIM_DEPOSITO.csv', 'table_name': 'DIM_DEPOSITO', 'unique_key': 'id_deposito', 'fields': {'id_deposito': 'int', 'nome_deposito': 'string'}}\n",
      "{'csv_file_name': 'DIM_ENTREGA.csv', 'table_name': 'DIM_ENTREGA', 'unique_key': 'id_entrega', 'fields': {'id_entrega': 'int', 'endereco_entrega': 'string', 'pais_entrega': 'string'}}\n",
      "{'csv_file_name': 'DIM_FRETE.csv', 'table_name': 'DIM_FRETE', 'unique_key': 'id_frete', 'fields': {'id_frete': 'int', 'tipo_frete': 'string'}}\n",
      "{'csv_file_name': 'DIM_PAGAMENTO.csv', 'table_name': 'DIM_PAGAMENTO', 'unique_key': 'id_pagamento', 'fields': {'id_pagamento': 'int', 'tipo_pagamento': 'string'}}\n",
      "{'csv_file_name': 'DIM_TRANSPORTADORA.csv', 'table_name': 'DIM_TRANSPORTADORA', 'unique_key': 'id_transportadora', 'fields': {'id_transportadora': 'int', 'nome_transportadora': 'string'}}\n",
      "{'csv_file_name': 'TB_FATO.csv', 'table_name': 'TB_FATO', 'unique_key': 'id_cliente,id_transportadora,id_deposito,id_entrega,id_pagamento,id_frete,id_data', 'fields': {'id_cliente': 'int', 'id_transportadora': 'int', 'id_deposito': 'int', 'id_entrega': 'int', 'id_pagamento': 'int', 'id_frete': 'int', 'id_data': 'int', 'valor_entrega': 'currency'}}\n"
     ]
    }
   ],
   "source": [
    "# upstram\n",
    "# loop reading all source files      \n",
    "\n",
    "logging.info('--------------------- Starting the DAG process ---------------------')\n",
    "      \n",
    "\n",
    "for file_number in range(8):\n",
    "\n",
    "    load_done = False\n",
    "    sql_cmd = ''\n",
    "    data = []\n",
    "    \n",
    "    \n",
    "    data_map = openFile(map_path, file_number)\n",
    "    \n",
    "    print(data_map)\n",
    "    \n",
    "   # data_map = map_file['params'][str(file_number)]\n",
    "    data     = read_csv(data_map)\n",
    "    sql_cmd  = create_sql_cmd(data, data_map)\n",
    "    load_done= load_to_postgres(sql_cmd)\n",
    "\n",
    "    destiny = process_path \n",
    "    if not load_done: #  there is an error\n",
    "          destiny = error_path   \n",
    "   \n",
    "    move_file(data_map['csv_file_name'], destiny)\n",
    "    \n",
    "   # if load_done:\n",
    "       # send_email('jamilvilela@gmail.com')\n",
    "\n",
    "logging.info('----------------------- DAG process finished -----------------------')\n"
   ]
  }
 ],
 "metadata": {
  "kernelspec": {
   "display_name": "Python 3",
   "language": "python",
   "name": "python3"
  },
  "language_info": {
   "codemirror_mode": {
    "name": "ipython",
    "version": 3
   },
   "file_extension": ".py",
   "mimetype": "text/x-python",
   "name": "python",
   "nbconvert_exporter": "python",
   "pygments_lexer": "ipython3",
   "version": "3.11.1"
  },
  "orig_nbformat": 4,
  "vscode": {
   "interpreter": {
    "hash": "949777d72b0d2535278d3dc13498b2535136f6dfe0678499012e853ee9abcab1"
   }
  }
 },
 "nbformat": 4,
 "nbformat_minor": 2
}
